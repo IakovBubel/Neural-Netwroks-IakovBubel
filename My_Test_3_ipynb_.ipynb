{
  "cells": [
    {
      "cell_type": "markdown",
      "id": "12e3e615",
      "metadata": {
        "id": "12e3e615"
      },
      "source": [
        "## Task 1 (10 Points)"
      ]
    },
    {
      "cell_type": "markdown",
      "id": "ab52aedf",
      "metadata": {
        "id": "ab52aedf"
      },
      "source": [
        "Select padding sizes:"
      ]
    },
    {
      "cell_type": "code",
      "execution_count": null,
      "id": "be5cc335",
      "metadata": {
        "id": "be5cc335"
      },
      "outputs": [],
      "source": [
        "import torch\n",
        "\n",
        "N = 4\n",
        "C = 3\n",
        "C_out = 10\n",
        "H = 8\n",
        "W = 16\n",
        "\n",
        "x = torch.ones((N, C, H, W))\n",
        "\n",
        "# torch.Size([4, 10, 8, 16])\n",
        "out1 = torch.nn.Conv2d(C, C_out, kernel_size=(3, 3), padding=(1, 1))(x)\n",
        "print(out1.shape) # for self-test\n",
        "\n",
        "# torch.Size([4, 10, 8, 16])\n",
        "out2 = torch.nn.Conv2d(C, C_out, kernel_size=(5, 5), padding=(2, 2))(x)\n",
        "print(out2.shape) # for self-test\n",
        "\n",
        "# torch.Size([4, 10, 8, 16])\n",
        "out3 = torch.nn.Conv2d(C, C_out, kernel_size=(7, 7), padding=(3, 3))(x)\n",
        "print(out3.shape) # for self-test\n",
        "\n",
        "# torch.Size([4, 10, 8, 16])\n",
        "out4 = torch.nn.Conv2d(C, C_out, kernel_size=(9, 9), padding=(4, 4))(x)\n",
        "print(out4.shape) # for self-test\n",
        "\n",
        "# torch.Size([4, 10, 8, 16])\n",
        "out5 = torch.nn.Conv2d(C, C_out, kernel_size=(3, 5), padding=(1, 2))(x)\n",
        "print(out5.shape) # for self-test\n",
        "\n",
        "# torch.Size([4, 10, 22, 30])\n",
        "out6 = torch.nn.Conv2d(C, C_out, kernel_size=(3, 3), padding=(8, 8))(x)\n",
        "print(out6.shape) # for self-test\n",
        "\n",
        "# torch.Size([4, 10, 7, 15])\n",
        "out7 = torch.nn.Conv2d(C, C_out, kernel_size=(4, 4), padding=(1, 1))(x)\n",
        "print(out7.shape) # for self-test\n",
        "\n",
        "# torch.Size([4, 10, 9, 17])\n",
        "out8 = torch.nn.Conv2d(C, C_out, kernel_size=(2, 2), padding=(1, 1))(x)\n",
        "print(out8.shape) # for self-test"
      ]
    },
    {
      "cell_type": "markdown",
      "id": "8e0e467e",
      "metadata": {
        "id": "8e0e467e"
      },
      "source": [
        "## Task 2 (40 Points)"
      ]
    },
    {
      "cell_type": "markdown",
      "id": "329c2efa",
      "metadata": {
        "id": "329c2efa"
      },
      "source": [
        "Develop an architecture according to the data from the article.\n",
        "To test the functionality, test your architecture on any suitable data set.\n",
        "\n",
        "### Architectural Design Strategies\n",
        "**Strategy 1.** Replace 3×3 filters with 1×1 filters\n",
        "Given a budget of a certain number of convolution filters, we can choose to make the majority of these filters 1×1, since a 1×1 filter has 9× fewer parameters than a 3×3 filter.\n",
        "\n",
        "**Strategy 2.** Decrease the number of input channels to 3×3 filters\n",
        "Consider a convolution layer that is comprised entirely of 3×3 filters. The total quantity of parameters in this layer is:\n",
        "(number of input channels) × (number of filters) × (3×3)\n",
        "We can decrease the number of input channels to 3×3 filters using squeeze layers, mentioned in the next section.\n",
        "\n",
        "**Strategy 3.** Downsample late in the network so that convolution layers have large activation maps\n",
        "The intuition is that large activation maps (due to delayed downsampling) can lead to higher classification accuracy.\n",
        "\n",
        "### Fire Module\n",
        "![](https://miro.medium.com/v2/resize:fit:930/format:webp/1*ONk0HfLLjDcUhUjuu8iq1w.png)\n",
        "A Fire module is comprised of: a squeeze convolution layer (which has only 1×1 filters), feeding into an expand layer that has a mix of 1×1 and 3×3 convolution filters.\n",
        "\n",
        "There are three tunable dimensions (hyperparameters) in a Fire module: s1×1, e1×1, and e3×3.\n",
        "\n",
        "s1×1: The number of 1×1 in squeeze layer.\n",
        "\n",
        "e1×1 and e3×3: The number of 1×1 and 3×3 in expand layer.\n",
        "\n",
        "When we use Fire modules we set s1×1 to be less than (e1×1 + e3×3), so the squeeze layer helps to limit the number of input channels to the 3×3 filters, as per Strategy 2 in previous section.\n",
        "To me, it is quite a like of Inception Module.\n",
        "\n",
        "![](https://miro.medium.com/v2/resize:fit:1400/format:webp/1*y87bqk95D-IndWdHM_K9-g.png)\n",
        "![](https://miro.medium.com/v2/resize:fit:4800/format:webp/1*XQGAKZb8kjoF_1lSXeIQxg.png)"
      ]
    },
    {
      "cell_type": "markdown",
      "id": "b02f06c6",
      "metadata": {
        "id": "b02f06c6"
      },
      "source": [
        "## Step 0. Data preparation."
      ]
    },
    {
      "cell_type": "code",
      "source": [
        "!ls \"/content/drive/My Drive/Neural Networks/archive/\""
      ],
      "metadata": {
        "colab": {
          "base_uri": "https://localhost:8080/"
        },
        "id": "iCVK3g1r_6it",
        "outputId": "a7fd7a31-6d53-4f91-c80b-cb97110d73bf"
      },
      "id": "iCVK3g1r_6it",
      "execution_count": null,
      "outputs": [
        {
          "output_type": "stream",
          "name": "stdout",
          "text": [
            "cars_annos.mat\tcars_test  cars_train\n"
          ]
        }
      ]
    },
    {
      "cell_type": "code",
      "source": [
        "import scipy.io\n",
        "mat_data = scipy.io.loadmat(anno_path)\n",
        "\n",
        "# Extract class names\n",
        "class_names = [name[0] for name in mat_data['class_names'][0]]\n",
        "\n",
        "for idx, name in enumerate(class_names, start=1):\n",
        "    print(f\"{idx}. {name}\")\n"
      ],
      "metadata": {
        "colab": {
          "base_uri": "https://localhost:8080/"
        },
        "id": "7AJ7MqAJCpAx",
        "outputId": "50d67c48-0ebd-4ce7-de4f-2b6e0a4aab95"
      },
      "id": "7AJ7MqAJCpAx",
      "execution_count": null,
      "outputs": [
        {
          "output_type": "stream",
          "name": "stdout",
          "text": [
            "1. AM General Hummer SUV 2000\n",
            "2. Acura RL Sedan 2012\n",
            "3. Acura TL Sedan 2012\n",
            "4. Acura TL Type-S 2008\n",
            "5. Acura TSX Sedan 2012\n",
            "6. Acura Integra Type R 2001\n",
            "7. Acura ZDX Hatchback 2012\n",
            "8. Aston Martin V8 Vantage Convertible 2012\n",
            "9. Aston Martin V8 Vantage Coupe 2012\n",
            "10. Aston Martin Virage Convertible 2012\n",
            "11. Aston Martin Virage Coupe 2012\n",
            "12. Audi RS 4 Convertible 2008\n",
            "13. Audi A5 Coupe 2012\n",
            "14. Audi TTS Coupe 2012\n",
            "15. Audi R8 Coupe 2012\n",
            "16. Audi V8 Sedan 1994\n",
            "17. Audi 100 Sedan 1994\n",
            "18. Audi 100 Wagon 1994\n",
            "19. Audi TT Hatchback 2011\n",
            "20. Audi S6 Sedan 2011\n",
            "21. Audi S5 Convertible 2012\n",
            "22. Audi S5 Coupe 2012\n",
            "23. Audi S4 Sedan 2012\n",
            "24. Audi S4 Sedan 2007\n",
            "25. Audi TT RS Coupe 2012\n",
            "26. BMW ActiveHybrid 5 Sedan 2012\n",
            "27. BMW 1 Series Convertible 2012\n",
            "28. BMW 1 Series Coupe 2012\n",
            "29. BMW 3 Series Sedan 2012\n",
            "30. BMW 3 Series Wagon 2012\n",
            "31. BMW 6 Series Convertible 2007\n",
            "32. BMW X5 SUV 2007\n",
            "33. BMW X6 SUV 2012\n",
            "34. BMW M3 Coupe 2012\n",
            "35. BMW M5 Sedan 2010\n",
            "36. BMW M6 Convertible 2010\n",
            "37. BMW X3 SUV 2012\n",
            "38. BMW Z4 Convertible 2012\n",
            "39. Bentley Continental Supersports Conv. Convertible 2012\n",
            "40. Bentley Arnage Sedan 2009\n",
            "41. Bentley Mulsanne Sedan 2011\n",
            "42. Bentley Continental GT Coupe 2012\n",
            "43. Bentley Continental GT Coupe 2007\n",
            "44. Bentley Continental Flying Spur Sedan 2007\n",
            "45. Bugatti Veyron 16.4 Convertible 2009\n",
            "46. Bugatti Veyron 16.4 Coupe 2009\n",
            "47. Buick Regal GS 2012\n",
            "48. Buick Rainier SUV 2007\n",
            "49. Buick Verano Sedan 2012\n",
            "50. Buick Enclave SUV 2012\n",
            "51. Cadillac CTS-V Sedan 2012\n",
            "52. Cadillac SRX SUV 2012\n",
            "53. Cadillac Escalade EXT Crew Cab 2007\n",
            "54. Chevrolet Silverado 1500 Hybrid Crew Cab 2012\n",
            "55. Chevrolet Corvette Convertible 2012\n",
            "56. Chevrolet Corvette ZR1 2012\n",
            "57. Chevrolet Corvette Ron Fellows Edition Z06 2007\n",
            "58. Chevrolet Traverse SUV 2012\n",
            "59. Chevrolet Camaro Convertible 2012\n",
            "60. Chevrolet HHR SS 2010\n",
            "61. Chevrolet Impala Sedan 2007\n",
            "62. Chevrolet Tahoe Hybrid SUV 2012\n",
            "63. Chevrolet Sonic Sedan 2012\n",
            "64. Chevrolet Express Cargo Van 2007\n",
            "65. Chevrolet Avalanche Crew Cab 2012\n",
            "66. Chevrolet Cobalt SS 2010\n",
            "67. Chevrolet Malibu Hybrid Sedan 2010\n",
            "68. Chevrolet TrailBlazer SS 2009\n",
            "69. Chevrolet Silverado 2500HD Regular Cab 2012\n",
            "70. Chevrolet Silverado 1500 Classic Extended Cab 2007\n",
            "71. Chevrolet Express Van 2007\n",
            "72. Chevrolet Monte Carlo Coupe 2007\n",
            "73. Chevrolet Malibu Sedan 2007\n",
            "74. Chevrolet Silverado 1500 Extended Cab 2012\n",
            "75. Chevrolet Silverado 1500 Regular Cab 2012\n",
            "76. Chrysler Aspen SUV 2009\n",
            "77. Chrysler Sebring Convertible 2010\n",
            "78. Chrysler Town and Country Minivan 2012\n",
            "79. Chrysler 300 SRT-8 2010\n",
            "80. Chrysler Crossfire Convertible 2008\n",
            "81. Chrysler PT Cruiser Convertible 2008\n",
            "82. Daewoo Nubira Wagon 2002\n",
            "83. Dodge Caliber Wagon 2012\n",
            "84. Dodge Caliber Wagon 2007\n",
            "85. Dodge Caravan Minivan 1997\n",
            "86. Dodge Ram Pickup 3500 Crew Cab 2010\n",
            "87. Dodge Ram Pickup 3500 Quad Cab 2009\n",
            "88. Dodge Sprinter Cargo Van 2009\n",
            "89. Dodge Journey SUV 2012\n",
            "90. Dodge Dakota Crew Cab 2010\n",
            "91. Dodge Dakota Club Cab 2007\n",
            "92. Dodge Magnum Wagon 2008\n",
            "93. Dodge Challenger SRT8 2011\n",
            "94. Dodge Durango SUV 2012\n",
            "95. Dodge Durango SUV 2007\n",
            "96. Dodge Charger Sedan 2012\n",
            "97. Dodge Charger SRT-8 2009\n",
            "98. Eagle Talon Hatchback 1998\n",
            "99. FIAT 500 Abarth 2012\n",
            "100. FIAT 500 Convertible 2012\n",
            "101. Ferrari FF Coupe 2012\n",
            "102. Ferrari California Convertible 2012\n",
            "103. Ferrari 458 Italia Convertible 2012\n",
            "104. Ferrari 458 Italia Coupe 2012\n",
            "105. Fisker Karma Sedan 2012\n",
            "106. Ford F-450 Super Duty Crew Cab 2012\n",
            "107. Ford Mustang Convertible 2007\n",
            "108. Ford Freestar Minivan 2007\n",
            "109. Ford Expedition EL SUV 2009\n",
            "110. Ford Edge SUV 2012\n",
            "111. Ford Ranger SuperCab 2011\n",
            "112. Ford GT Coupe 2006\n",
            "113. Ford F-150 Regular Cab 2012\n",
            "114. Ford F-150 Regular Cab 2007\n",
            "115. Ford Focus Sedan 2007\n",
            "116. Ford E-Series Wagon Van 2012\n",
            "117. Ford Fiesta Sedan 2012\n",
            "118. GMC Terrain SUV 2012\n",
            "119. GMC Savana Van 2012\n",
            "120. GMC Yukon Hybrid SUV 2012\n",
            "121. GMC Acadia SUV 2012\n",
            "122. GMC Canyon Extended Cab 2012\n",
            "123. Geo Metro Convertible 1993\n",
            "124. HUMMER H3T Crew Cab 2010\n",
            "125. HUMMER H2 SUT Crew Cab 2009\n",
            "126. Honda Odyssey Minivan 2012\n",
            "127. Honda Odyssey Minivan 2007\n",
            "128. Honda Accord Coupe 2012\n",
            "129. Honda Accord Sedan 2012\n",
            "130. Hyundai Veloster Hatchback 2012\n",
            "131. Hyundai Santa Fe SUV 2012\n",
            "132. Hyundai Tucson SUV 2012\n",
            "133. Hyundai Veracruz SUV 2012\n",
            "134. Hyundai Sonata Hybrid Sedan 2012\n",
            "135. Hyundai Elantra Sedan 2007\n",
            "136. Hyundai Accent Sedan 2012\n",
            "137. Hyundai Genesis Sedan 2012\n",
            "138. Hyundai Sonata Sedan 2012\n",
            "139. Hyundai Elantra Touring Hatchback 2012\n",
            "140. Hyundai Azera Sedan 2012\n",
            "141. Infiniti G Coupe IPL 2012\n",
            "142. Infiniti QX56 SUV 2011\n",
            "143. Isuzu Ascender SUV 2008\n",
            "144. Jaguar XK XKR 2012\n",
            "145. Jeep Patriot SUV 2012\n",
            "146. Jeep Wrangler SUV 2012\n",
            "147. Jeep Liberty SUV 2012\n",
            "148. Jeep Grand Cherokee SUV 2012\n",
            "149. Jeep Compass SUV 2012\n",
            "150. Lamborghini Reventon Coupe 2008\n",
            "151. Lamborghini Aventador Coupe 2012\n",
            "152. Lamborghini Gallardo LP 570-4 Superleggera 2012\n",
            "153. Lamborghini Diablo Coupe 2001\n",
            "154. Land Rover Range Rover SUV 2012\n",
            "155. Land Rover LR2 SUV 2012\n",
            "156. Lincoln Town Car Sedan 2011\n",
            "157. MINI Cooper Roadster Convertible 2012\n",
            "158. Maybach Landaulet Convertible 2012\n",
            "159. Mazda Tribute SUV 2011\n",
            "160. McLaren MP4-12C Coupe 2012\n",
            "161. Mercedes-Benz 300-Class Convertible 1993\n",
            "162. Mercedes-Benz C-Class Sedan 2012\n",
            "163. Mercedes-Benz SL-Class Coupe 2009\n",
            "164. Mercedes-Benz E-Class Sedan 2012\n",
            "165. Mercedes-Benz S-Class Sedan 2012\n",
            "166. Mercedes-Benz Sprinter Van 2012\n",
            "167. Mitsubishi Lancer Sedan 2012\n",
            "168. Nissan Leaf Hatchback 2012\n",
            "169. Nissan NV Passenger Van 2012\n",
            "170. Nissan Juke Hatchback 2012\n",
            "171. Nissan 240SX Coupe 1998\n",
            "172. Plymouth Neon Coupe 1999\n",
            "173. Porsche Panamera Sedan 2012\n",
            "174. Ram C/V Cargo Van Minivan 2012\n",
            "175. Rolls-Royce Phantom Drophead Coupe Convertible 2012\n",
            "176. Rolls-Royce Ghost Sedan 2012\n",
            "177. Rolls-Royce Phantom Sedan 2012\n",
            "178. Scion xD Hatchback 2012\n",
            "179. Spyker C8 Convertible 2009\n",
            "180. Spyker C8 Coupe 2009\n",
            "181. Suzuki Aerio Sedan 2007\n",
            "182. Suzuki Kizashi Sedan 2012\n",
            "183. Suzuki SX4 Hatchback 2012\n",
            "184. Suzuki SX4 Sedan 2012\n",
            "185. Tesla Model S Sedan 2012\n",
            "186. Toyota Sequoia SUV 2012\n",
            "187. Toyota Camry Sedan 2012\n",
            "188. Toyota Corolla Sedan 2012\n",
            "189. Toyota 4Runner SUV 2012\n",
            "190. Volkswagen Golf Hatchback 2012\n",
            "191. Volkswagen Golf Hatchback 1991\n",
            "192. Volkswagen Beetle Hatchback 2012\n",
            "193. Volvo C30 Hatchback 2012\n",
            "194. Volvo 240 Sedan 1993\n",
            "195. Volvo XC90 SUV 2007\n",
            "196. smart fortwo Convertible 2012\n"
          ]
        }
      ]
    },
    {
      "cell_type": "code",
      "execution_count": null,
      "id": "7209e6d0",
      "metadata": {
        "id": "7209e6d0"
      },
      "outputs": [],
      "source": [
        "from google.colab import drive\n",
        "import os\n",
        "import scipy.io\n",
        "import torch\n",
        "from torch.utils.data import Dataset, DataLoader\n",
        "from torchvision import datasets, transforms\n",
        "from PIL import Image\n",
        "import torch.nn as nn\n",
        "import torch.nn.functional as F\n",
        "\n",
        "data_path = '/content/drive/My Drive/Neural Networks/archive/'\n",
        "train_data_path = os.path.join(data_path, 'cars_train/cars_train')\n",
        "test_data_path = os.path.join(data_path, 'cars_test/cars_test')\n",
        "anno_path = os.path.join(data_path, 'cars_annos.mat')\n",
        "\n",
        "device = torch.device(\"cuda\" if torch.cuda.is_available() else \"cpu\")\n",
        "\n",
        "transform = transforms.Compose([\n",
        "    transforms.Resize((224, 224)),\n",
        "    transforms.Lambda(lambda image: image.convert(\"RGB\")),\n",
        "    transforms.ToTensor(),\n",
        "])\n",
        "\n",
        "class CustomImageDataset(Dataset):\n",
        "    def __init__(self, directory, anno_path, transform=None):\n",
        "        self.directory = directory\n",
        "        self.transform = transform\n",
        "        self.image_list = sorted(os.listdir(self.directory))\n",
        "\n",
        "        # Load annotations\n",
        "        annotations = scipy.io.loadmat(anno_path)['annotations'][0]\n",
        "        self.labels = {anno[0][0].split('/')[-1]: int(anno[-2][0][0] - 1) for anno in annotations}\n",
        "\n",
        "    def __len__(self):\n",
        "        return len(self.image_list)\n",
        "\n",
        "    def __getitem__(self, idx):\n",
        "        img_name = os.path.join(self.directory, self.image_list[idx])\n",
        "        image = Image.open(img_name)\n",
        "        if self.transform:\n",
        "            image = self.transform(image)\n",
        "        label = self.labels.get(self.image_list[idx], 0)\n",
        "        return image, label\n",
        "\n",
        "# Load datasets\n",
        "train_dataset = CustomImageDataset(train_data_path, anno_path, transform=transform)\n",
        "train_loader = DataLoader(train_dataset, batch_size=32, shuffle=True)\n",
        "\n",
        "test_dataset = CustomImageDataset(test_data_path, anno_path, transform=transform)\n",
        "test_loader = DataLoader(test_dataset, batch_size=32, shuffle=False)"
      ]
    },
    {
      "cell_type": "markdown",
      "id": "74a4e84f",
      "metadata": {
        "id": "74a4e84f"
      },
      "source": [
        "## Step 1. Neural network architecture"
      ]
    },
    {
      "cell_type": "code",
      "execution_count": null,
      "id": "a601be60",
      "metadata": {
        "id": "a601be60"
      },
      "outputs": [],
      "source": [
        "import torch.nn as nn\n",
        "import torch.nn.functional as F\n",
        "\n",
        "class Fire(nn.Module):\n",
        "    def __init__(self, in_channels, s1x1, e1x1, e3x3):\n",
        "        super(Fire, self).__init__()\n",
        "        self.squeeze = nn.Conv2d(in_channels, s1x1, kernel_size=1)\n",
        "        self.expand1x1 = nn.Conv2d(s1x1, e1x1, kernel_size=1)\n",
        "        self.expand3x3 = nn.Conv2d(s1x1, e3x3, kernel_size=3, padding=1)\n",
        "    def forward(self, x):\n",
        "        x = F.relu(self.squeeze(x))\n",
        "        return torch.cat([F.relu(self.expand1x1(x)), F.relu(self.expand3x3(x))], 1)\n",
        "\n",
        "class SqueezeNet(nn.Module):\n",
        "    def __init__(self, num_classes=196):\n",
        "        super(SqueezeNet, self).__init__()\n",
        "        self.features = nn.Sequential(\n",
        "            nn.Conv2d(3, 96, kernel_size=7, stride=2),\n",
        "            nn.ReLU(inplace=True),\n",
        "            nn.MaxPool2d(kernel_size=3, stride=2, ceil_mode=True),\n",
        "            Fire(96, 16, 64, 64),\n",
        "            Fire(128, 16, 64, 64),\n",
        "            Fire(128, 32, 128, 128),\n",
        "            nn.MaxPool2d(kernel_size=3, stride=2, ceil_mode=True),\n",
        "            Fire(256, 32, 128, 128),\n",
        "            Fire(256, 48, 192, 192),\n",
        "            Fire(384, 48, 192, 192),\n",
        "            Fire(384, 64, 256, 256),\n",
        "            nn.MaxPool2d(kernel_size=3, stride=2, ceil_mode=True),\n",
        "            Fire(512, 64, 256, 256),\n",
        "        )\n",
        "        self.classifier = nn.Sequential(\n",
        "            nn.Dropout(p=0.5),\n",
        "            nn.Conv2d(512, num_classes, kernel_size=1),\n",
        "            nn.ReLU(inplace=True),\n",
        "            nn.AdaptiveAvgPool2d((1, 1))\n",
        "        )\n",
        "    def forward(self, x):\n",
        "        x = self.features(x)\n",
        "        x = self.classifier(x)\n",
        "        return torch.flatten(x, 1)\n",
        "\n",
        "model = SqueezeNet().to(device)\n"
      ]
    },
    {
      "cell_type": "markdown",
      "id": "6947b78d",
      "metadata": {
        "id": "6947b78d"
      },
      "source": [
        "## Step 2.  Loss Function"
      ]
    },
    {
      "cell_type": "code",
      "execution_count": null,
      "id": "dbd1515b",
      "metadata": {
        "id": "dbd1515b"
      },
      "outputs": [],
      "source": [
        "loss_func = nn.CrossEntropyLoss()\n"
      ]
    },
    {
      "cell_type": "markdown",
      "id": "098332de",
      "metadata": {
        "id": "098332de"
      },
      "source": [
        "## Step 3. Optimizer"
      ]
    },
    {
      "cell_type": "code",
      "execution_count": null,
      "id": "bc70ea1f",
      "metadata": {
        "id": "bc70ea1f"
      },
      "outputs": [],
      "source": [
        "optimizer = torch.optim.Adam(model.parameters(), lr=0.001)\n"
      ]
    },
    {
      "cell_type": "markdown",
      "id": "20bbcf0c",
      "metadata": {
        "id": "20bbcf0c"
      },
      "source": [
        "## Step 4. Train Loop"
      ]
    },
    {
      "cell_type": "code",
      "source": [
        "num_epochs = 3\n",
        "model.train()\n",
        "for epoch in range(num_epochs):\n",
        "    epoch_loss = 0.0\n",
        "    correct = 0\n",
        "    total = 0\n",
        "\n",
        "    for batch_idx, (images, labels) in enumerate(train_loader):\n",
        "        images, labels = images.to(device), labels.to(device)\n",
        "        optimizer.zero_grad()\n",
        "        outputs = model(images)\n",
        "        _, predicted = outputs.max(1)\n",
        "        total += labels.size(0)\n",
        "        correct += (predicted == labels).sum().item()\n",
        "        loss = loss_func(outputs, labels)\n",
        "        loss.backward()\n",
        "        optimizer.step()\n",
        "        epoch_loss += loss.item()\n",
        "\n",
        "    accuracy = 100 * correct / total\n",
        "    print(f\"Epoch [{epoch + 1}/{num_epochs}], Loss: {epoch_loss / len(train_loader):.4f}, Accuracy: {accuracy:.2f}%\")\n",
        "\n",
        "print(\"Training completed.\")\n",
        "\n",
        "model.eval()\n",
        "correct_test = 0\n",
        "total_test = 0\n",
        "with torch.no_grad():\n",
        "    for images, labels in test_loader:\n",
        "        images, labels = images.to(device), labels.to(device)\n",
        "        outputs = model(images)\n",
        "        _, predicted = outputs.max(1)\n",
        "        total_test += labels.size(0)\n",
        "        correct_test += predicted.eq(labels).sum().item()\n",
        "\n",
        "test_acc = 100. * correct_test / total_test"
      ],
      "metadata": {
        "id": "nDjQDGUpB48A"
      },
      "id": "nDjQDGUpB48A",
      "execution_count": null,
      "outputs": []
    }
  ],
  "metadata": {
    "kernelspec": {
      "display_name": "Python 3",
      "name": "python3"
    },
    "language_info": {
      "codemirror_mode": {
        "name": "ipython",
        "version": 3
      },
      "file_extension": ".py",
      "mimetype": "text/x-python",
      "name": "python",
      "nbconvert_exporter": "python",
      "pygments_lexer": "ipython3",
      "version": "3.10.5"
    },
    "colab": {
      "provenance": []
    }
  },
  "nbformat": 4,
  "nbformat_minor": 5
}