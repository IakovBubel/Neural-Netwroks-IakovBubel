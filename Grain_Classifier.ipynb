{
  "cells": [
    {
      "cell_type": "markdown",
      "metadata": {
        "id": "bsISED2LPWBA"
      },
      "source": [
        "# **Data Preparation**"
      ]
    },
    {
      "cell_type": "code",
      "execution_count": 6,
      "metadata": {
        "colab": {
          "base_uri": "https://localhost:8080/"
        },
        "id": "Ao00Ztgn7Rcy",
        "outputId": "7f04321e-d2d4-4342-9b3b-f15b9363cff4"
      },
      "outputs": [
        {
          "output_type": "stream",
          "name": "stdout",
          "text": [
            "Drive already mounted at /content/drive; to attempt to forcibly remount, call drive.mount(\"/content/drive\", force_remount=True).\n"
          ]
        }
      ],
      "source": [
        "import os\n",
        "import torch\n",
        "import torch.nn as nn\n",
        "import torch.nn.functional as F\n",
        "import torch.optim as optim\n",
        "from torch.utils.data import DataLoader, Dataset\n",
        "from torchvision import transforms, models\n",
        "from PIL import Image\n",
        "import pandas as pd\n",
        "from google.colab import drive\n",
        "drive.mount('/content/drive')\n",
        "\n",
        "device = torch.device('cuda' if torch.cuda.is_available() else 'cpu')\n",
        "\n",
        "class GrainImageDataset(Dataset):\n",
        "    def __init__(self, csv_file, img_dir, transform=None, mode='train'):\n",
        "\n",
        "        self.dataframe = pd.read_csv(csv_file)\n",
        "        self.img_dir = img_dir\n",
        "        self.transform = transform\n",
        "        self.mode = mode\n",
        "\n",
        "        self.class_to_index = {'wheat': 0, 'oats': 1, 'flax': 2, 'barley': 3}\n",
        "\n",
        "    def __len__(self):\n",
        "        return len(self.dataframe)\n",
        "\n",
        "    def __getitem__(self, idx):\n",
        "        img_name = os.path.join(self.img_dir, self.dataframe.iloc[idx, 0])\n",
        "        image = Image.open(img_name).convert('RGB')\n",
        "        if self.transform:\n",
        "            image = self.transform(image)\n",
        "\n",
        "        if self.mode == 'train':\n",
        "            class_name = self.dataframe.iloc[idx, 1]\n",
        "            label = self.class_to_index[class_name]\n",
        "            label = torch.tensor(label, dtype=torch.long)\n",
        "        else:\n",
        "            label = torch.tensor(-1, dtype=torch.long)\n",
        "        return image, label"
      ]
    },
    {
      "cell_type": "markdown",
      "metadata": {
        "id": "gZ5tfb2gPbfI"
      },
      "source": [
        "#**Model Architecture**"
      ]
    },
    {
      "cell_type": "code",
      "execution_count": 7,
      "metadata": {
        "colab": {
          "base_uri": "https://localhost:8080/"
        },
        "id": "a5kCZbDB7RWN",
        "outputId": "c92202db-a4dd-4e31-c782-2bc47f403746"
      },
      "outputs": [
        {
          "output_type": "stream",
          "name": "stderr",
          "text": [
            "/usr/local/lib/python3.10/dist-packages/torchvision/models/_utils.py:208: UserWarning: The parameter 'pretrained' is deprecated since 0.13 and may be removed in the future, please use 'weights' instead.\n",
            "  warnings.warn(\n",
            "/usr/local/lib/python3.10/dist-packages/torchvision/models/_utils.py:223: UserWarning: Arguments other than a weight enum or `None` for 'weights' are deprecated since 0.13 and may be removed in the future. The current behavior is equivalent to passing `weights=ResNet50_Weights.IMAGENET1K_V1`. You can also use `weights=ResNet50_Weights.DEFAULT` to get the most up-to-date weights.\n",
            "  warnings.warn(msg)\n",
            "Downloading: \"https://download.pytorch.org/models/resnet50-0676ba61.pth\" to /root/.cache/torch/hub/checkpoints/resnet50-0676ba61.pth\n",
            "100%|██████████| 97.8M/97.8M [00:00<00:00, 159MB/s]\n"
          ]
        }
      ],
      "source": [
        "# Model definition\n",
        "# class GrainClassifier(nn.Module):\n",
        "#     def __init__(self):\n",
        "#         super(GrainClassifier, self).__init__()\n",
        "\n",
        "#         self.conv1 = nn.Conv2d(3, 32, kernel_size=3, padding=1)  # Input channels = 3 (RGB)\n",
        "#         self.conv2 = nn.Conv2d(32, 64, kernel_size=3, padding=1)\n",
        "#         self.conv3 = nn.Conv2d(64, 128, kernel_size=3, padding=1)\n",
        "#         self.conv4 = nn.Conv2d(128, 256, kernel_size=3, padding=1)\n",
        "\n",
        "#         self.pool = nn.MaxPool2d(kernel_size=2, stride=2)\n",
        "\n",
        "#         self.fc1 = nn.Linear(256 * 8 * 8, 512)\n",
        "#         self.fc2 = nn.Linear(512, 4)  # 4 classes: wheat, oats, flax, barley\n",
        "\n",
        "#         self.dropout = nn.Dropout(0.5)\n",
        "\n",
        "#     def forward(self, x):\n",
        "#         x = self.pool(F.relu(self.conv1(x)))\n",
        "#         x = self.pool(F.relu(self.conv2(x)))\n",
        "#         x = self.pool(F.relu(self.conv3(x)))\n",
        "#         x = self.pool(F.relu(self.conv4(x)))\n",
        "\n",
        "#         x = x.view(-1, 256 * 8 * 8)\n",
        "#         x = self.dropout(x)\n",
        "\n",
        "#         x = F.relu(self.fc1(x))\n",
        "#         x = self.dropout(x)\n",
        "\n",
        "#         x = self.fc2(x)\n",
        "#         return x\n",
        "\n",
        "model = models.resnet50(pretrained=True)\n",
        "\n",
        "# Freeze all the parameters in the convolutional layers\n",
        "for param in model.parameters():\n",
        "    param.requires_grad = False\n",
        "\n",
        "# Modify the fully connected layer to output 4 classes\n",
        "model.fc = nn.Linear(model.fc.in_features, 4)\n",
        "\n",
        "# Move the model to the device\n",
        "model = model.to(device)\n",
        "\n",
        "# Define the transformation for the input images\n",
        "transform = transforms.Compose([\n",
        "    transforms.Resize((128, 128)),\n",
        "    transforms.ToTensor(),\n",
        "    transforms.Normalize(mean=[0.485, 0.456, 0.406], std=[0.229, 0.224, 0.225])\n",
        "])\n",
        "\n",
        "# Specify the paths and directories for your dataset\n",
        "train_csv_path = '/content/drive/MyDrive/NeuralNetworks/train/train.csv'\n",
        "test_csv_path = '/content/drive/MyDrive/NeuralNetworks/test/test.csv'\n",
        "train_img_dir = '/content/drive/MyDrive/NeuralNetworks/train/images'\n",
        "test_img_dir = '/content/drive/MyDrive/NeuralNetworks/test/images'\n",
        "\n",
        "# Create instances of your dataset\n",
        "train_dataset = GrainImageDataset(csv_file=train_csv_path, img_dir=train_img_dir, transform=transform, mode='train')\n",
        "test_dataset = GrainImageDataset(csv_file=test_csv_path, img_dir=test_img_dir, transform=transform, mode='test')\n",
        "\n",
        "# Create data loaders\n",
        "train_loader = DataLoader(train_dataset, batch_size=32, shuffle=True)\n",
        "test_loader = DataLoader(test_dataset, batch_size=32, shuffle=False)\n",
        "\n",
        "# num_classes = 4\n",
        "# model = GrainClassifier().to(device)"
      ]
    },
    {
      "cell_type": "markdown",
      "metadata": {
        "id": "L_LWLONOPjS9"
      },
      "source": [
        "# **Optimizer**"
      ]
    },
    {
      "cell_type": "code",
      "execution_count": 8,
      "metadata": {
        "id": "mFwNhdH-7RGq"
      },
      "outputs": [],
      "source": [
        "optimizer = optim.Adam(model.parameters(), lr=0.001)"
      ]
    },
    {
      "cell_type": "markdown",
      "metadata": {
        "id": "oW7FuNU7Plm4"
      },
      "source": [
        "# **Loss function**"
      ]
    },
    {
      "cell_type": "code",
      "execution_count": 9,
      "metadata": {
        "id": "hRt7Dr9G7Q-E"
      },
      "outputs": [],
      "source": [
        "loss_func = nn.CrossEntropyLoss()"
      ]
    },
    {
      "cell_type": "markdown",
      "metadata": {
        "id": "F20M1MFSPoRS"
      },
      "source": [
        "# **Training**"
      ]
    },
    {
      "cell_type": "code",
      "execution_count": 10,
      "metadata": {
        "colab": {
          "base_uri": "https://localhost:8080/"
        },
        "id": "eQ80eBTH7QyH",
        "outputId": "03dcbd6b-f606-4e17-d9d2-467996121213"
      },
      "outputs": [
        {
          "output_type": "stream",
          "name": "stdout",
          "text": [
            "Epoch 1/100, Loss: 0.6975025957102304\n",
            "Epoch 2/100, Loss: 0.4210741634552295\n",
            "Epoch 3/100, Loss: 0.3666742819023656\n",
            "Epoch 4/100, Loss: 0.35892940787496147\n",
            "Epoch 5/100, Loss: 0.3433417002414609\n",
            "Epoch 6/100, Loss: 0.2859839290216729\n",
            "Epoch 7/100, Loss: 0.28679274272296457\n",
            "Epoch 8/100, Loss: 0.26452695078902194\n",
            "Epoch 9/100, Loss: 0.24068786261173394\n",
            "Epoch 10/100, Loss: 0.2678277620656805\n",
            "Epoch 11/100, Loss: 0.2637324848590971\n",
            "Epoch 12/100, Loss: 0.25566910338270793\n",
            "Epoch 13/100, Loss: 0.2233434942151819\n",
            "Epoch 14/100, Loss: 0.22650208749941417\n",
            "Epoch 15/100, Loss: 0.2358961317401666\n",
            "Epoch 16/100, Loss: 0.22140807453747635\n",
            "Epoch 17/100, Loss: 0.22250934628831162\n",
            "Epoch 18/100, Loss: 0.20836820866871666\n",
            "Epoch 19/100, Loss: 0.21283140144014095\n",
            "Epoch 20/100, Loss: 0.22537827066012792\n",
            "Epoch 21/100, Loss: 0.18720937012643604\n",
            "Epoch 22/100, Loss: 0.20282919230041924\n",
            "Epoch 23/100, Loss: 0.218539413023781\n",
            "Epoch 24/100, Loss: 0.21176832202044163\n",
            "Epoch 25/100, Loss: 0.24238447177704875\n",
            "Epoch 26/100, Loss: 0.17665899213362526\n",
            "Epoch 27/100, Loss: 0.2228199665608642\n",
            "Epoch 28/100, Loss: 0.1688779938024479\n",
            "Epoch 29/100, Loss: 0.17923107587701673\n",
            "Epoch 30/100, Loss: 0.17106321284158543\n",
            "Epoch 31/100, Loss: 0.17257840477012015\n",
            "Epoch 32/100, Loss: 0.1756531529046677\n",
            "Epoch 33/100, Loss: 0.19321969347995716\n",
            "Epoch 34/100, Loss: 0.19248052603554922\n",
            "Epoch 35/100, Loss: 0.17636387574148701\n",
            "Epoch 36/100, Loss: 0.18017416785133408\n",
            "Epoch 37/100, Loss: 0.18031171277411037\n",
            "Epoch 38/100, Loss: 0.16269601120071098\n",
            "Epoch 39/100, Loss: 0.18318822067026252\n",
            "Epoch 40/100, Loss: 0.16458774122644912\n",
            "Epoch 41/100, Loss: 0.16495226923335385\n",
            "Epoch 42/100, Loss: 0.16845828978406205\n",
            "Epoch 43/100, Loss: 0.1667601289329948\n",
            "Epoch 44/100, Loss: 0.16939543085275116\n",
            "Epoch 45/100, Loss: 0.14874236512888264\n",
            "Epoch 46/100, Loss: 0.16278430516575718\n",
            "Epoch 47/100, Loss: 0.17034738654127488\n",
            "Epoch 48/100, Loss: 0.14079820522322103\n",
            "Epoch 49/100, Loss: 0.15634801992020764\n",
            "Epoch 50/100, Loss: 0.1408886163198686\n",
            "Epoch 51/100, Loss: 0.15073042463224667\n",
            "Epoch 52/100, Loss: 0.14635252195236448\n",
            "Epoch 53/100, Loss: 0.16119458610294285\n",
            "Epoch 54/100, Loss: 0.14814790718994297\n",
            "Epoch 55/100, Loss: 0.15258417133200955\n",
            "Epoch 56/100, Loss: 0.17592599995147723\n",
            "Epoch 57/100, Loss: 0.1478376537152044\n",
            "Epoch 58/100, Loss: 0.16971382222414672\n",
            "Epoch 59/100, Loss: 0.14625528000377036\n",
            "Epoch 60/100, Loss: 0.1526406882842491\n",
            "Epoch 61/100, Loss: 0.13751421136024233\n",
            "Epoch 62/100, Loss: 0.13422600155348305\n",
            "Epoch 63/100, Loss: 0.1343354520561931\n",
            "Epoch 64/100, Loss: 0.1210670525842643\n",
            "Epoch 65/100, Loss: 0.16607408345277822\n",
            "Epoch 66/100, Loss: 0.13382290588221052\n",
            "Epoch 67/100, Loss: 0.13934821946607842\n",
            "Epoch 68/100, Loss: 0.13775589196318452\n",
            "Epoch 69/100, Loss: 0.13915690222939292\n",
            "Epoch 70/100, Loss: 0.14855676005174825\n",
            "Epoch 71/100, Loss: 0.12499466680686225\n",
            "Epoch 72/100, Loss: 0.12850584974000742\n",
            "Epoch 73/100, Loss: 0.1351569062201204\n",
            "Epoch 74/100, Loss: 0.12437114230060316\n",
            "Epoch 75/100, Loss: 0.11911235180693669\n",
            "Epoch 76/100, Loss: 0.12474198025334013\n",
            "Epoch 77/100, Loss: 0.17520184305261124\n",
            "Epoch 78/100, Loss: 0.1666330104222992\n",
            "Epoch 79/100, Loss: 0.1584869473353847\n",
            "Epoch 80/100, Loss: 0.11973493396826498\n",
            "Epoch 81/100, Loss: 0.13728946139319584\n",
            "Epoch 82/100, Loss: 0.13328459822050817\n",
            "Epoch 83/100, Loss: 0.13413588871544863\n",
            "Epoch 84/100, Loss: 0.13224158882276044\n",
            "Epoch 85/100, Loss: 0.13098017375015622\n",
            "Epoch 86/100, Loss: 0.12439859193841835\n",
            "Epoch 87/100, Loss: 0.13239286962773775\n",
            "Epoch 88/100, Loss: 0.13236835111792272\n",
            "Epoch 89/100, Loss: 0.11343971819995524\n",
            "Epoch 90/100, Loss: 0.13896666092613896\n",
            "Epoch 91/100, Loss: 0.10893675518109576\n",
            "Epoch 92/100, Loss: 0.11788308423954053\n",
            "Epoch 93/100, Loss: 0.14758564795848433\n",
            "Epoch 94/100, Loss: 0.12962136357756598\n",
            "Epoch 95/100, Loss: 0.12265055720786472\n",
            "Epoch 96/100, Loss: 0.12261463161353227\n",
            "Epoch 97/100, Loss: 0.11183431507139416\n",
            "Epoch 98/100, Loss: 0.1532610012474214\n",
            "Epoch 99/100, Loss: 0.10824172616332442\n",
            "Epoch 100/100, Loss: 0.12407759227022365\n"
          ]
        }
      ],
      "source": [
        "def train(model, train_loader, loss_func, optimizer, num_epochs, device):\n",
        "    model.to(device)\n",
        "    for epoch in range(num_epochs):\n",
        "        model.train()\n",
        "        running_loss = 0.0\n",
        "        for images, labels in train_loader:\n",
        "            images, labels = images.to(device), labels.to(device)\n",
        "            optimizer.zero_grad()\n",
        "            outputs = model(images)\n",
        "            loss = loss_func(outputs, labels)\n",
        "            loss.backward()\n",
        "            optimizer.step()\n",
        "            running_loss += loss.item()\n",
        "        print(f'Epoch {epoch+1}/{num_epochs}, Loss: {running_loss/len(train_loader)}')\n",
        "\n",
        "train(model, train_loader, loss_func, optimizer, num_epochs=100, device=device)"
      ]
    },
    {
      "cell_type": "markdown",
      "metadata": {
        "id": "Mv97YI5mPqM4"
      },
      "source": [
        "# **Evaluation**"
      ]
    },
    {
      "cell_type": "code",
      "execution_count": 11,
      "metadata": {
        "id": "ZDGNoip8nxhd"
      },
      "outputs": [],
      "source": [
        "def evaluate(model, test_loader, device):\n",
        "    model.to(device)\n",
        "    model.eval()\n",
        "    predictions = []\n",
        "    with torch.no_grad():\n",
        "        for images, labels in test_loader:\n",
        "            images = images.to(device)\n",
        "            outputs = model(images)\n",
        "            _, predicted = torch.max(outputs, 1)\n",
        "            predictions.extend(predicted.cpu().tolist())\n",
        "    return predictions\n",
        "\n",
        "predictions = evaluate(model, test_loader, device=device)\n",
        "index_to_class = {0: 'wheat', 1: 'oats', 2: 'flax', 3: 'barley'}\n",
        "\n",
        "# Конвертировать в названия\n",
        "class_predictions = [index_to_class[pred] for pred in predictions]\n",
        "\n",
        "test_df = pd.read_csv(test_csv_path)\n",
        "test_df['class'] = class_predictions\n",
        "test_df.to_csv('/content/drive/MyDrive/NeuralNetworks/predictions5.csv', index=False)"
      ]
    }
  ],
  "metadata": {
    "accelerator": "GPU",
    "colab": {
      "provenance": []
    },
    "kernelspec": {
      "display_name": "Python 3",
      "name": "python3"
    },
    "language_info": {
      "name": "python"
    }
  },
  "nbformat": 4,
  "nbformat_minor": 0
}